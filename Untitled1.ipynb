{
 "cells": [
  {
   "cell_type": "code",
   "execution_count": 1,
   "id": "cbd479e8-12fa-4fd3-bef7-87f20e4f7281",
   "metadata": {},
   "outputs": [],
   "source": [
    "def crible_eratosthene(n) -> list[bool]:\n",
    "    \"\"\"Génère une liste de booléens où True indique qu'un nombre est premier.\"\"\"\n",
    "\n",
    "    est_premier = [True] * (n + 1)\n",
    "    est_premier[0] = est_premier[1] = False  # 0 et 1 ne sont pas premiers\n",
    "\n",
    "    for i in range(2, int(n**0.5) + 1):\n",
    "        if est_premier[i]:\n",
    "            for multiple in range(i * i, n + 1, i):\n",
    "                est_premier[multiple] = False\n",
    "\n",
    "    return est_premier"
   ]
  },
  {
   "cell_type": "code",
   "execution_count": 5,
   "id": "5cb50a87-7599-4e46-a37a-6d02f65aa0d1",
   "metadata": {},
   "outputs": [],
   "source": [
    "def compte_premier(liste):\n",
    "    a=0\n",
    "    for i in liste:\n",
    "        if i:\n",
    "            a+=1\n",
    "\n",
    "    return a"
   ]
  },
  {
   "cell_type": "code",
   "execution_count": 6,
   "id": "f9c2f9a3-c27c-417a-b334-0edace2965cf",
   "metadata": {},
   "outputs": [
    {
     "data": {
      "text/plain": [
       "8363"
      ]
     },
     "execution_count": 6,
     "metadata": {},
     "output_type": "execute_result"
    }
   ],
   "source": [
    "compte_premier(crible_eratosthene(100000)[10000:])"
   ]
  },
  {
   "cell_type": "code",
   "execution_count": 7,
   "id": "3eca9bb0-ea4b-4a58-9d71-c7af628a3055",
   "metadata": {},
   "outputs": [],
   "source": [
    "import duckdb\n",
    "\n",
    "duckdb.sql(\"\"\"\n",
    "CREATE OR REPLACE VIEW commune AS\n",
    "FROM 'https://www.insee.fr/fr/statistiques/fichier/7766585/v_commune_2024.csv';\n",
    "\"\"\")"
   ]
  },
  {
   "cell_type": "code",
   "execution_count": 8,
   "id": "dbd25e45-3d8b-476c-9f16-c201069e50c4",
   "metadata": {},
   "outputs": [
    {
     "data": {
      "text/plain": [
       "┌─────────┬─────────┬───────┬─────────┬─────────┬─────────┬───────┬───────────────────────────┬───────────────────────────┬───────────────────────────┬─────────┬───────────┐\n",
       "│ TYPECOM │   COM   │  REG  │   DEP   │  CTCD   │   ARR   │ TNCC  │            NCC            │          NCCENR           │          LIBELLE          │   CAN   │ COMPARENT │\n",
       "│ varchar │ varchar │ int64 │ varchar │ varchar │ varchar │ int64 │          varchar          │          varchar          │          varchar          │ varchar │  varchar  │\n",
       "├─────────┼─────────┼───────┼─────────┼─────────┼─────────┼───────┼───────────────────────────┼───────────────────────────┼───────────────────────────┼─────────┼───────────┤\n",
       "│ COM     │ 01001   │    84 │ 01      │ 01D     │ 012     │     5 │ ABERGEMENT CLEMENCIAT     │ Abergement-Clémenciat     │ L'Abergement-Clémenciat   │ 0108    │ NULL      │\n",
       "│ COM     │ 01002   │    84 │ 01      │ 01D     │ 011     │     5 │ ABERGEMENT DE VAREY       │ Abergement-de-Varey       │ L'Abergement-de-Varey     │ 0101    │ NULL      │\n",
       "│ COM     │ 01004   │    84 │ 01      │ 01D     │ 011     │     1 │ AMBERIEU EN BUGEY         │ Ambérieu-en-Bugey         │ Ambérieu-en-Bugey         │ 0101    │ NULL      │\n",
       "│ COM     │ 01005   │    84 │ 01      │ 01D     │ 012     │     1 │ AMBERIEUX EN DOMBES       │ Ambérieux-en-Dombes       │ Ambérieux-en-Dombes       │ 0122    │ NULL      │\n",
       "│ COM     │ 01006   │    84 │ 01      │ 01D     │ 011     │     1 │ AMBLEON                   │ Ambléon                   │ Ambléon                   │ 0104    │ NULL      │\n",
       "│ COM     │ 01007   │    84 │ 01      │ 01D     │ 011     │     1 │ AMBRONAY                  │ Ambronay                  │ Ambronay                  │ 0101    │ NULL      │\n",
       "│ COM     │ 01008   │    84 │ 01      │ 01D     │ 011     │     1 │ AMBUTRIX                  │ Ambutrix                  │ Ambutrix                  │ 0101    │ NULL      │\n",
       "│ COM     │ 01009   │    84 │ 01      │ 01D     │ 011     │     1 │ ANDERT ET CONDON          │ Andert-et-Condon          │ Andert-et-Condon          │ 0104    │ NULL      │\n",
       "│ COM     │ 01010   │    84 │ 01      │ 01D     │ 011     │     1 │ ANGLEFORT                 │ Anglefort                 │ Anglefort                 │ 0110    │ NULL      │\n",
       "│ COM     │ 01011   │    84 │ 01      │ 01D     │ 014     │     1 │ APREMONT                  │ Apremont                  │ Apremont                  │ 0114    │ NULL      │\n",
       "│  ·      │   ·     │     · │ ·       │  ·      │  ·      │     · │  ·                        │  ·                        │  ·                        │  ·      │  ·        │\n",
       "│  ·      │   ·     │     · │ ·       │  ·      │  ·      │     · │  ·                        │  ·                        │  ·                        │  ·      │  ·        │\n",
       "│  ·      │   ·     │     · │ ·       │  ·      │  ·      │     · │  ·                        │  ·                        │  ·                        │  ·      │  ·        │\n",
       "│ COMD    │ 27007   │  NULL │ NULL    │ NULL    │ NULL    │     1 │ AJOU                      │ Ajou                      │ Ajou                      │ NULL    │ 27049     │\n",
       "│ COM     │ 27008   │    28 │ 27      │ 27D     │ 271     │     1 │ ALIZAY                    │ Alizay                    │ Alizay                    │ 2718    │ NULL      │\n",
       "│ COM     │ 27009   │    28 │ 27      │ 27D     │ 272     │     1 │ AMBENAY                   │ Ambenay                   │ Ambenay                   │ 2706    │ NULL      │\n",
       "│ COM     │ 27010   │    28 │ 27      │ 27D     │ 271     │     1 │ AMECOURT                  │ Amécourt                  │ Amécourt                  │ 2713    │ NULL      │\n",
       "│ COM     │ 27011   │    28 │ 27      │ 27D     │ 272     │     1 │ AMFREVILLE SAINT AMAND    │ Amfreville-Saint-Amand    │ Amfreville-Saint-Amand    │ 2705    │ NULL      │\n",
       "│ COMD    │ 27011   │  NULL │ NULL    │ NULL    │ NULL    │     1 │ AMFREVILLE LA CAMPAGNE    │ Amfreville-la-Campagne    │ Amfreville-la-Campagne    │ NULL    │ 27011     │\n",
       "│ COM     │ 27012   │    28 │ 27      │ 27D     │ 271     │     1 │ AMFREVILLE LES CHAMPS     │ Amfreville-les-Champs     │ Amfreville-les-Champs     │ 2719    │ NULL      │\n",
       "│ COM     │ 27013   │    28 │ 27      │ 27D     │ 271     │     1 │ AMFREVILLE SOUS LES MONTS │ Amfreville-sous-les-Monts │ Amfreville-sous-les-Monts │ 2721    │ NULL      │\n",
       "│ COM     │ 27014   │    28 │ 27      │ 27D     │ 271     │     1 │ AMFREVILLE SUR ITON       │ Amfreville-sur-Iton       │ Amfreville-sur-Iton       │ 2718    │ NULL      │\n",
       "│ COM     │ 27015   │    28 │ 27      │ 27D     │ 271     │     1 │ ANDE                      │ Andé                      │ Andé                      │ 2714    │ NULL      │\n",
       "├─────────┴─────────┴───────┴─────────┴─────────┴─────────┴───────┴───────────────────────────┴───────────────────────────┴───────────────────────────┴─────────┴───────────┤\n",
       "│ ? rows (>9999 rows, 20 shown)                                                                                                                                  12 columns │\n",
       "└───────────────────────────────────────────────────────────────────────────────────────────────────────────────────────────────────────────────────────────────────────────┘"
      ]
     },
     "execution_count": 8,
     "metadata": {},
     "output_type": "execute_result"
    }
   ],
   "source": [
    "duckdb.sql(\"\"\"\n",
    "SELECT *\n",
    "  FROM commune\n",
    "\"\"\")"
   ]
  },
  {
   "cell_type": "code",
   "execution_count": 10,
   "id": "c4bae8c9-9f9a-4825-aee4-05e2a720ffd0",
   "metadata": {},
   "outputs": [
    {
     "data": {
      "text/html": [
       "<div>\n",
       "<style scoped>\n",
       "    .dataframe tbody tr th:only-of-type {\n",
       "        vertical-align: middle;\n",
       "    }\n",
       "\n",
       "    .dataframe tbody tr th {\n",
       "        vertical-align: top;\n",
       "    }\n",
       "\n",
       "    .dataframe thead th {\n",
       "        text-align: right;\n",
       "    }\n",
       "</style>\n",
       "<table border=\"1\" class=\"dataframe\">\n",
       "  <thead>\n",
       "    <tr style=\"text-align: right;\">\n",
       "      <th></th>\n",
       "      <th>TYPECOM</th>\n",
       "      <th>COM</th>\n",
       "      <th>REG</th>\n",
       "      <th>DEP</th>\n",
       "      <th>CTCD</th>\n",
       "      <th>ARR</th>\n",
       "      <th>TNCC</th>\n",
       "      <th>NCC</th>\n",
       "      <th>NCCENR</th>\n",
       "      <th>LIBELLE</th>\n",
       "      <th>CAN</th>\n",
       "      <th>COMPARENT</th>\n",
       "    </tr>\n",
       "  </thead>\n",
       "  <tbody>\n",
       "    <tr>\n",
       "      <th>0</th>\n",
       "      <td>COM</td>\n",
       "      <td>01001</td>\n",
       "      <td>84.0</td>\n",
       "      <td>01</td>\n",
       "      <td>01D</td>\n",
       "      <td>012</td>\n",
       "      <td>5</td>\n",
       "      <td>ABERGEMENT CLEMENCIAT</td>\n",
       "      <td>Abergement-Clémenciat</td>\n",
       "      <td>L'Abergement-Clémenciat</td>\n",
       "      <td>0108</td>\n",
       "      <td>None</td>\n",
       "    </tr>\n",
       "    <tr>\n",
       "      <th>1</th>\n",
       "      <td>COM</td>\n",
       "      <td>01002</td>\n",
       "      <td>84.0</td>\n",
       "      <td>01</td>\n",
       "      <td>01D</td>\n",
       "      <td>011</td>\n",
       "      <td>5</td>\n",
       "      <td>ABERGEMENT DE VAREY</td>\n",
       "      <td>Abergement-de-Varey</td>\n",
       "      <td>L'Abergement-de-Varey</td>\n",
       "      <td>0101</td>\n",
       "      <td>None</td>\n",
       "    </tr>\n",
       "    <tr>\n",
       "      <th>2</th>\n",
       "      <td>COM</td>\n",
       "      <td>01004</td>\n",
       "      <td>84.0</td>\n",
       "      <td>01</td>\n",
       "      <td>01D</td>\n",
       "      <td>011</td>\n",
       "      <td>1</td>\n",
       "      <td>AMBERIEU EN BUGEY</td>\n",
       "      <td>Ambérieu-en-Bugey</td>\n",
       "      <td>Ambérieu-en-Bugey</td>\n",
       "      <td>0101</td>\n",
       "      <td>None</td>\n",
       "    </tr>\n",
       "    <tr>\n",
       "      <th>3</th>\n",
       "      <td>COM</td>\n",
       "      <td>01005</td>\n",
       "      <td>84.0</td>\n",
       "      <td>01</td>\n",
       "      <td>01D</td>\n",
       "      <td>012</td>\n",
       "      <td>1</td>\n",
       "      <td>AMBERIEUX EN DOMBES</td>\n",
       "      <td>Ambérieux-en-Dombes</td>\n",
       "      <td>Ambérieux-en-Dombes</td>\n",
       "      <td>0122</td>\n",
       "      <td>None</td>\n",
       "    </tr>\n",
       "    <tr>\n",
       "      <th>4</th>\n",
       "      <td>COM</td>\n",
       "      <td>01006</td>\n",
       "      <td>84.0</td>\n",
       "      <td>01</td>\n",
       "      <td>01D</td>\n",
       "      <td>011</td>\n",
       "      <td>1</td>\n",
       "      <td>AMBLEON</td>\n",
       "      <td>Ambléon</td>\n",
       "      <td>Ambléon</td>\n",
       "      <td>0104</td>\n",
       "      <td>None</td>\n",
       "    </tr>\n",
       "    <tr>\n",
       "      <th>...</th>\n",
       "      <td>...</td>\n",
       "      <td>...</td>\n",
       "      <td>...</td>\n",
       "      <td>...</td>\n",
       "      <td>...</td>\n",
       "      <td>...</td>\n",
       "      <td>...</td>\n",
       "      <td>...</td>\n",
       "      <td>...</td>\n",
       "      <td>...</td>\n",
       "      <td>...</td>\n",
       "      <td>...</td>\n",
       "    </tr>\n",
       "    <tr>\n",
       "      <th>37539</th>\n",
       "      <td>COM</td>\n",
       "      <td>97613</td>\n",
       "      <td>6.0</td>\n",
       "      <td>976</td>\n",
       "      <td>976D</td>\n",
       "      <td>None</td>\n",
       "      <td>0</td>\n",
       "      <td>M TSANGAMOUJI</td>\n",
       "      <td>M'Tsangamouji</td>\n",
       "      <td>M'Tsangamouji</td>\n",
       "      <td>97613</td>\n",
       "      <td>None</td>\n",
       "    </tr>\n",
       "    <tr>\n",
       "      <th>37540</th>\n",
       "      <td>COM</td>\n",
       "      <td>97614</td>\n",
       "      <td>6.0</td>\n",
       "      <td>976</td>\n",
       "      <td>976D</td>\n",
       "      <td>None</td>\n",
       "      <td>1</td>\n",
       "      <td>OUANGANI</td>\n",
       "      <td>Ouangani</td>\n",
       "      <td>Ouangani</td>\n",
       "      <td>97610</td>\n",
       "      <td>None</td>\n",
       "    </tr>\n",
       "    <tr>\n",
       "      <th>37541</th>\n",
       "      <td>COM</td>\n",
       "      <td>97615</td>\n",
       "      <td>6.0</td>\n",
       "      <td>976</td>\n",
       "      <td>976D</td>\n",
       "      <td>None</td>\n",
       "      <td>0</td>\n",
       "      <td>PAMANDZI</td>\n",
       "      <td>Pamandzi</td>\n",
       "      <td>Pamandzi</td>\n",
       "      <td>97611</td>\n",
       "      <td>None</td>\n",
       "    </tr>\n",
       "    <tr>\n",
       "      <th>37542</th>\n",
       "      <td>COM</td>\n",
       "      <td>97616</td>\n",
       "      <td>6.0</td>\n",
       "      <td>976</td>\n",
       "      <td>976D</td>\n",
       "      <td>None</td>\n",
       "      <td>0</td>\n",
       "      <td>SADA</td>\n",
       "      <td>Sada</td>\n",
       "      <td>Sada</td>\n",
       "      <td>97612</td>\n",
       "      <td>None</td>\n",
       "    </tr>\n",
       "    <tr>\n",
       "      <th>37543</th>\n",
       "      <td>COM</td>\n",
       "      <td>97617</td>\n",
       "      <td>6.0</td>\n",
       "      <td>976</td>\n",
       "      <td>976D</td>\n",
       "      <td>None</td>\n",
       "      <td>0</td>\n",
       "      <td>TSINGONI</td>\n",
       "      <td>Tsingoni</td>\n",
       "      <td>Tsingoni</td>\n",
       "      <td>97613</td>\n",
       "      <td>None</td>\n",
       "    </tr>\n",
       "  </tbody>\n",
       "</table>\n",
       "<p>37544 rows × 12 columns</p>\n",
       "</div>"
      ],
      "text/plain": [
       "      TYPECOM    COM   REG  DEP  CTCD   ARR  TNCC                    NCC  \\\n",
       "0         COM  01001  84.0   01   01D   012     5  ABERGEMENT CLEMENCIAT   \n",
       "1         COM  01002  84.0   01   01D   011     5    ABERGEMENT DE VAREY   \n",
       "2         COM  01004  84.0   01   01D   011     1      AMBERIEU EN BUGEY   \n",
       "3         COM  01005  84.0   01   01D   012     1    AMBERIEUX EN DOMBES   \n",
       "4         COM  01006  84.0   01   01D   011     1                AMBLEON   \n",
       "...       ...    ...   ...  ...   ...   ...   ...                    ...   \n",
       "37539     COM  97613   6.0  976  976D  None     0          M TSANGAMOUJI   \n",
       "37540     COM  97614   6.0  976  976D  None     1               OUANGANI   \n",
       "37541     COM  97615   6.0  976  976D  None     0               PAMANDZI   \n",
       "37542     COM  97616   6.0  976  976D  None     0                   SADA   \n",
       "37543     COM  97617   6.0  976  976D  None     0               TSINGONI   \n",
       "\n",
       "                      NCCENR                  LIBELLE    CAN COMPARENT  \n",
       "0      Abergement-Clémenciat  L'Abergement-Clémenciat   0108      None  \n",
       "1        Abergement-de-Varey    L'Abergement-de-Varey   0101      None  \n",
       "2          Ambérieu-en-Bugey        Ambérieu-en-Bugey   0101      None  \n",
       "3        Ambérieux-en-Dombes      Ambérieux-en-Dombes   0122      None  \n",
       "4                    Ambléon                  Ambléon   0104      None  \n",
       "...                      ...                      ...    ...       ...  \n",
       "37539          M'Tsangamouji            M'Tsangamouji  97613      None  \n",
       "37540               Ouangani                 Ouangani  97610      None  \n",
       "37541               Pamandzi                 Pamandzi  97611      None  \n",
       "37542                   Sada                     Sada  97612      None  \n",
       "37543               Tsingoni                 Tsingoni  97613      None  \n",
       "\n",
       "[37544 rows x 12 columns]"
      ]
     },
     "execution_count": 10,
     "metadata": {},
     "output_type": "execute_result"
    }
   ],
   "source": [
    "import pandas as pd\n",
    "\n",
    "duckdb.sql(\"\"\"\n",
    "SELECT *\n",
    "  FROM commune\n",
    "\"\"\").to_df()"
   ]
  },
  {
   "cell_type": "code",
   "execution_count": 13,
   "id": "47da73b5-483b-49f0-90ed-ae6e0cae2da2",
   "metadata": {},
   "outputs": [
    {
     "data": {
      "text/plain": [
       "┌─────────┬─────────┬───────┬─────────┬─────────┬─────────┬───────┬───────────┬───────────┬───────────┬─────────┬───────────┐\n",
       "│ TYPECOM │   COM   │  REG  │   DEP   │  CTCD   │   ARR   │ TNCC  │    NCC    │  NCCENR   │  LIBELLE  │   CAN   │ COMPARENT │\n",
       "│ varchar │ varchar │ int64 │ varchar │ varchar │ varchar │ int64 │  varchar  │  varchar  │  varchar  │ varchar │  varchar  │\n",
       "├─────────┼─────────┼───────┼─────────┼─────────┼─────────┼───────┼───────────┼───────────┼───────────┼─────────┼───────────┤\n",
       "│ COM     │ 97611   │     6 │ 976     │ 976D    │ NULL    │     0 │ MAMOUDZOU │ Mamoudzou │ Mamoudzou │ 97699   │ NULL      │\n",
       "└─────────┴─────────┴───────┴─────────┴─────────┴─────────┴───────┴───────────┴───────────┴───────────┴─────────┴───────────┘"
      ]
     },
     "execution_count": 13,
     "metadata": {},
     "output_type": "execute_result"
    }
   ],
   "source": [
    "duckdb.sql(\"\"\"SELECT * \n",
    "                FROM  commune\n",
    "                WHERE NCC='MAMOUDZOU' \"\"\")"
   ]
  },
  {
   "cell_type": "code",
   "execution_count": 16,
   "id": "ebe19358-c664-4f28-aa8f-113977b2d78d",
   "metadata": {},
   "outputs": [
    {
     "data": {
      "text/plain": [
       "┌──────────────┐\n",
       "│ count_star() │\n",
       "│    int64     │\n",
       "├──────────────┤\n",
       "│           22 │\n",
       "└──────────────┘"
      ]
     },
     "execution_count": 16,
     "metadata": {},
     "output_type": "execute_result"
    }
   ],
   "source": [
    "duckdb.sql(\"\"\"SELECT COUNT (*)\n",
    "                FROM  commune\n",
    "                WHERE DEP='973' \"\"\")"
   ]
  },
  {
   "cell_type": "code",
   "execution_count": 26,
   "id": "e26dcb41-f06b-427e-aab7-ba7e2fbdfdd0",
   "metadata": {},
   "outputs": [
    {
     "data": {
      "text/plain": [
       "┌──────────────┐\n",
       "│ count_star() │\n",
       "│    int64     │\n",
       "├──────────────┤\n",
       "│           32 │\n",
       "└──────────────┘"
      ]
     },
     "execution_count": 26,
     "metadata": {},
     "output_type": "execute_result"
    }
   ],
   "source": [
    "duckdb.sql(\"\"\" SELECT COUNT(*)  \n",
    "                FROM commune \n",
    "                WHERE (DEP='02' OR DEP='60' OR DEP='80')\n",
    "                AND NCC like '%L%L%L%L%' \n",
    "                \"\"\")"
   ]
  },
  {
   "cell_type": "code",
   "execution_count": null,
   "id": "974f1615-6f52-4c6e-b7f1-2567d6637893",
   "metadata": {},
   "outputs": [],
   "source": []
  }
 ],
 "metadata": {
  "kernelspec": {
   "display_name": "Python 3 (ipykernel)",
   "language": "python",
   "name": "python3"
  },
  "language_info": {
   "codemirror_mode": {
    "name": "ipython",
    "version": 3
   },
   "file_extension": ".py",
   "mimetype": "text/x-python",
   "name": "python",
   "nbconvert_exporter": "python",
   "pygments_lexer": "ipython3",
   "version": "3.12.6"
  }
 },
 "nbformat": 4,
 "nbformat_minor": 5
}
